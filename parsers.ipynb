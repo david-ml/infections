{
 "cells": [
  {
   "cell_type": "code",
   "execution_count": 2,
   "metadata": {},
   "outputs": [
    {
     "name": "stdout",
     "output_type": "stream",
     "text": [
      "Using matplotlib backend: Qt5Agg\n"
     ]
    }
   ],
   "source": [
    "import numpy as np\n",
    "import pandas as pd\n",
    "import os\n",
    "import pickle\n",
    "import math\n",
    "import pdb\n",
    "from matplotlib import pyplot as plt\n",
    "import importlib\n",
    "\n",
    "from cartopy import crs as ccrs\n",
    "from cartopy import feature as cfeature\n",
    "from matplotlib import cm\n",
    "\n",
    "import loaders\n",
    "import geography\n",
    "import visualization\n",
    "\n",
    "importlib.reload(loaders)\n",
    "importlib.reload(geography)\n",
    "importlib.reload(visualization)\n",
    "import visualization as vis\n",
    "\n",
    "%matplotlib"
   ]
  },
  {
   "cell_type": "code",
   "execution_count": null,
   "metadata": {},
   "outputs": [],
   "source": [
    "import numpy as np\n",
    "def log_no(q, ps, ns):\n",
    "    return -np.sum(ns * np.log(1 - q * ps))\n",
    "for i in range(5000):\n",
    "    N = 2#np.random.randint(low=100, high=2000)\n",
    "    ps = np.random.uniform(size=N)\n",
    "    n_a = np.random.randint(low=0, high=1000, size=N)\n",
    "    n_b = np.random.randint(low=0, high=1000, size=N)\n",
    "    q0 = np.random.uniform(low=0, high=1e-3,size=1)[0]\n",
    "    no_a0 = log_no(q0, ps, n_a)\n",
    "    no_b0 = log_no(q0, ps, n_b)\n",
    "    order0 = (no_a0 > no_b0)\n",
    "    if order0:\n",
    "        err_msg = f'{i}: q0 = {q0}, no_a0 = {no_a0} > {no_b0} = no_b0\\n'\n",
    "    else:\n",
    "        err_msg = f'{i}: q0 = {q0}, no_b0 = {no_b0} > {no_a0} = no_a0\\n'\n",
    "\n",
    "    for q in np.random.uniform(low=0, high=q0,size=1000):\n",
    "        no_a = log_no(q, ps, n_a)\n",
    "        no_b = log_no(q, ps, n_b)\n",
    "        order = (no_a > no_b)       \n",
    "        if order0 != order:\n",
    "            if order:\n",
    "                err_msg = err_msg + f'q = {q}, no_a = {no_a} > {no_b} = no_b\\n'\n",
    "            else:\n",
    "                err_msg = err_msg + f'q = {q}, no_b = {no_b} > {no_a} = no_a\\n'\n",
    "            print(err_msg)\n",
    "            \n",
    "            assert False\n",
    "            \n",
    "            \n",
    "\n"
   ]
  },
  {
   "cell_type": "code",
   "execution_count": 51,
   "metadata": {},
   "outputs": [
    {
     "data": {
      "text/plain": [
       "array([0.70277063, 0.96708173, 0.10522932, 0.32292721, 0.40809309,\n",
       "       0.26800538, 0.26328423, 0.17746625, 0.39161197, 0.54271717,\n",
       "       0.02029058, 0.03829489, 0.80053014, 0.46572665, 0.16372734,\n",
       "       0.39007532, 0.138969  , 0.57412519, 0.93601435, 0.78321403,\n",
       "       0.82547225, 0.51892545, 0.8647809 , 0.41290802, 0.9688102 ,\n",
       "       0.42703265, 0.18126513, 0.88633673, 0.91985491, 0.70345134,\n",
       "       0.09803319, 0.34420212, 0.81162517, 0.49018873, 0.12979581,\n",
       "       0.55503191, 0.45456399, 0.47806152, 0.51646993, 0.01996253,\n",
       "       0.9291863 , 0.88471195, 0.55243128, 0.3398955 , 0.02552667,\n",
       "       0.82338752, 0.58726727, 0.25747501, 0.40564361, 0.91640258,\n",
       "       0.54756142, 0.43301652, 0.29939555, 0.24280066, 0.74647451,\n",
       "       0.00221339, 0.69540233, 0.37523755, 0.6155519 , 0.47294686,\n",
       "       0.58865588, 0.27012834, 0.13521662, 0.19830773, 0.2955071 ,\n",
       "       0.95845364, 0.93239248, 0.79104165, 0.03226918, 0.49085817,\n",
       "       0.17585919, 0.41421442, 0.71335066, 0.26448876, 0.59924783,\n",
       "       0.83032779, 0.4659885 , 0.99735751, 0.61075086, 0.99056793,\n",
       "       0.39897404, 0.79139748, 0.46460647, 0.92229551, 0.65361911,\n",
       "       0.4086294 , 0.57589684, 0.65270404, 0.09519486, 0.87310353,\n",
       "       0.68197679, 0.86618518, 0.7380108 , 0.3130879 , 0.50306511,\n",
       "       0.46642277, 0.11387923, 0.77530313, 0.12556523, 0.17686315,\n",
       "       0.33469314, 0.46655011, 0.78309587, 0.537786  , 0.74369938,\n",
       "       0.21976261, 0.59224524, 0.43588092, 0.16155866, 0.06087424,\n",
       "       0.45869875, 0.60750576, 0.1560221 , 0.409696  , 0.07893542,\n",
       "       0.62365347, 0.74641856, 0.21142483, 0.72278917, 0.06254749,\n",
       "       0.61659126, 0.7297555 , 0.08037824, 0.81078595, 0.01818109,\n",
       "       0.2993008 , 0.34060773, 0.93965207, 0.23101958, 0.70752862,\n",
       "       0.99779488, 0.89184801, 0.79465571, 0.95811273, 0.16863957,\n",
       "       0.71422981, 0.63839768, 0.70122478, 0.27433719, 0.12872496,\n",
       "       0.76121132, 0.40588089, 0.2742453 , 0.43826822, 0.24464875,\n",
       "       0.87824801, 0.84744218, 0.867023  , 0.5507804 , 0.59391782,\n",
       "       0.00468128, 0.19163229, 0.44731415, 0.94615045, 0.84533964,\n",
       "       0.76156602, 0.49935972, 0.82030678, 0.91157959, 0.71537809,\n",
       "       0.2530897 , 0.6891881 , 0.61164055, 0.11059588, 0.79611862,\n",
       "       0.79826456, 0.04717155, 0.12051951, 0.55547983, 0.45552728,\n",
       "       0.3377432 , 0.84335435, 0.9490946 , 0.47514648, 0.45916581,\n",
       "       0.66504661, 0.31328981, 0.95646896, 0.69837801, 0.76154982,\n",
       "       0.4686755 , 0.44050955, 0.51459662, 0.92383586, 0.24077539,\n",
       "       0.49637785, 0.47005844, 0.43769312, 0.05251566, 0.94095525,\n",
       "       0.45544713, 0.45270552, 0.1295262 , 0.96998065, 0.45265821,\n",
       "       0.51499924, 0.04335752, 0.78130943, 0.1876104 , 0.53503296])"
      ]
     },
     "execution_count": 51,
     "metadata": {},
     "output_type": "execute_result"
    }
   ],
   "source": [
    "ps"
   ]
  },
  {
   "cell_type": "code",
   "execution_count": 27,
   "metadata": {},
   "outputs": [
    {
     "name": "stdout",
     "output_type": "stream",
     "text": [
      "0.3525706212972674\n",
      "0.23297794801271188\n",
      "0.029009289218990708\n",
      "0.0029662085213627565\n",
      "0.00029728264841577534\n"
     ]
    }
   ],
   "source": [
    "import math\n",
    "import numpy as np\n",
    "def get_p2(p1, n1, n2, q=1e-6):\n",
    "    enum = np.power( (1 - q*(1-p1)), n2/n1) - 1\n",
    "    return 1 + enum / q\n",
    "\n",
    "def f(p, n, q):\n",
    "    return (1 - q * (1-p))**n\n",
    "\n",
    "p1 = 0.01\n",
    "n1 = 10000\n",
    "n2 = 20009\n",
    "q = 1e-6\n",
    "p2 = get_p2(p1=p1, n1=n1, n2=n2, q=q)\n",
    "\n",
    "for q in [1e-4, 1e-5, 1e-6, 1e-7, 1e-8]:\n",
    "    print(f(p1, n1, q) - f(p2, n2, q))"
   ]
  },
  {
   "cell_type": "code",
   "execution_count": null,
   "metadata": {},
   "outputs": [],
   "source": []
  }
 ],
 "metadata": {
  "kernelspec": {
   "display_name": "Python 3",
   "language": "python",
   "name": "python3"
  },
  "language_info": {
   "codemirror_mode": {
    "name": "ipython",
    "version": 3
   },
   "file_extension": ".py",
   "mimetype": "text/x-python",
   "name": "python",
   "nbconvert_exporter": "python",
   "pygments_lexer": "ipython3",
   "version": "3.7.5"
  }
 },
 "nbformat": 4,
 "nbformat_minor": 4
}
