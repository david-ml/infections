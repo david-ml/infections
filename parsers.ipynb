{
 "cells": [
  {
   "cell_type": "code",
   "execution_count": 2,
   "metadata": {},
   "outputs": [
    {
     "name": "stdout",
     "output_type": "stream",
     "text": [
      "Using matplotlib backend: Qt5Agg\n"
     ]
    }
   ],
   "source": [
    "import numpy as np\n",
    "import pandas as pd\n",
    "import os\n",
    "import pickle\n",
    "import math\n",
    "import pdb\n",
    "from matplotlib import pyplot as plt\n",
    "import importlib\n",
    "\n",
    "from cartopy import crs as ccrs\n",
    "from cartopy import feature as cfeature\n",
    "from matplotlib import cm\n",
    "\n",
    "import loaders\n",
    "import geography\n",
    "import visualization\n",
    "\n",
    "importlib.reload(loaders)\n",
    "importlib.reload(geography)\n",
    "importlib.reload(visualization)\n",
    "import visualization as vis\n",
    "\n",
    "%matplotlib"
   ]
  },
  {
   "cell_type": "code",
   "execution_count": 4,
   "metadata": {},
   "outputs": [
    {
     "name": "stdout",
     "output_type": "stream",
     "text": [
      "1364 153 77\n"
     ]
    }
   ],
   "source": [
    "df = pd.read_csv('tables/global_risks_rep_wuhan3_kappa1.csv').sort_values('risk_i', ascending=False)\n",
    "df = loaders.desc_from_iata_code(df, 'Origin')#.set_index('Origin', drop=True)\n",
    "india = df[df.region.str.contains('IN').fillna(False)].reset_index(drop=True)\n",
    "africa =  df[df.continent == 'AF'].reset_index(drop=True)\n",
    "\n",
    "print(len(df), len(africa), len(india))"
   ]
  },
  {
   "cell_type": "code",
   "execution_count": 27,
   "metadata": {},
   "outputs": [
    {
     "name": "stdout",
     "output_type": "stream",
     "text": [
      "0.3525706212972674\n",
      "0.23297794801271188\n",
      "0.029009289218990708\n",
      "0.0029662085213627565\n",
      "0.00029728264841577534\n"
     ]
    }
   ],
   "source": [
    "import math\n",
    "import numpy as np\n",
    "def get_p2(p1, n1, n2, q=1e-6):\n",
    "    enum = np.power( (1 - q*(1-p1)), n2/n1) - 1\n",
    "    return 1 + enum / q\n",
    "\n",
    "def f(p, n, q):\n",
    "    return (1 - q * (1-p))**n\n",
    "\n",
    "p1 = 0.01\n",
    "n1 = 10000\n",
    "n2 = 20009\n",
    "q = 1e-6\n",
    "p2 = get_p2(p1=p1, n1=n1, n2=n2, q=q)\n",
    "\n",
    "for q in [1e-4, 1e-5, 1e-6, 1e-7, 1e-8]:\n",
    "    print(f(p1, n1, q) - f(p2, n2, q))"
   ]
  },
  {
   "cell_type": "code",
   "execution_count": null,
   "metadata": {},
   "outputs": [],
   "source": []
  }
 ],
 "metadata": {
  "kernelspec": {
   "display_name": "Python 3",
   "language": "python",
   "name": "python3"
  },
  "language_info": {
   "codemirror_mode": {
    "name": "ipython",
    "version": 3
   },
   "file_extension": ".py",
   "mimetype": "text/x-python",
   "name": "python",
   "nbconvert_exporter": "python",
   "pygments_lexer": "ipython3",
   "version": "3.7.5"
  }
 },
 "nbformat": 4,
 "nbformat_minor": 4
}
