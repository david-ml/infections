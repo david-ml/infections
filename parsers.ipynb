{
 "cells": [
  {
   "cell_type": "code",
   "execution_count": 51,
   "metadata": {},
   "outputs": [
    {
     "name": "stdout",
     "output_type": "stream",
     "text": [
      "Using matplotlib backend: Qt5Agg\n"
     ]
    }
   ],
   "source": [
    "import numpy as np\n",
    "import pandas as pd\n",
    "import os\n",
    "import pickle\n",
    "import math\n",
    "import pdb\n",
    "from matplotlib import pyplot as plt\n",
    "import importlib\n",
    "from scipy.optimize import fsolve\n",
    "\n",
    "from cartopy import crs as ccrs\n",
    "from cartopy import feature as cfeature\n",
    "from matplotlib import cm\n",
    "\n",
    "import loaders\n",
    "import geography\n",
    "import visualization\n",
    "\n",
    "importlib.reload(loaders)\n",
    "importlib.reload(geography)\n",
    "importlib.reload(visualization)\n",
    "import visualization as vis\n",
    "\n",
    "%matplotlib\n",
    "specs = loaders.load_density()\n",
    "specs = geography.get_coordinate_functions(specs)\n",
    "airports = loaders.load_airports(specs)\n",
    "travel = loaders.load_travel(airports) \n",
    "valid = airports.NodeName.values\n",
    "travel = {k:v.query('Origin in @valid and Dest in @valid') for k, v in travel.items()}\n",
    "    \n",
    "airports = loaders.calculate_outbreaks(airports, kappa=1, n=1)\n",
    "travel = {k:loaders.augment_travel(v, airports) for k, v in travel.items()}\n",
    "    "
   ]
  },
  {
   "cell_type": "code",
   "execution_count": 100,
   "metadata": {},
   "outputs": [],
   "source": [
    "month = 12#'annual'\n",
    "destinations = travel[month].query('Origin == \"WUH\"')\n",
    "destinations = destinations.assign(Month=month)\n",
    "drop = ['row_max', 'row_top', 'row_bottom', 'col_left', 'Lon', 'Lat', 'row', 'col', 'horz_window', 'vert_window_avg']\n",
    "drop = drop + ['lon_max', 'col_max', 'lat_max', 'vert_window', 'horz_window_avg', 'idx', 'vert_pixel', 'horz_pixel']\n",
    "drop = drop + ['col_right', 'shape', 'NodeName', 'origin_lat', 'origin_lon', 'dest_lon', 'dest_lat', 'upper', 'lower']\n",
    "cut = airports.loc[destinations.Dest.values].sort_values('density').drop(drop, axis=1, errors='ignore')\n",
    "destinations = destinations.drop(drop, axis=1, errors='ignore')\n",
    "destinations = destinations.assign(desc=airports.loc[destinations.Dest, 'OAGName'].values)\n",
    "\n",
    "destinations = destinations.sort_values('Prediction')\n",
    "#destinations['Prediction'] = destinations.Prediction // 100\n",
    "destinations.reset_index(drop=True).to_csv(f'wuhan_{month}.csv', sep ='\\t')"
   ]
  },
  {
   "cell_type": "code",
   "execution_count": 175,
   "metadata": {},
   "outputs": [
    {
     "data": {
      "text/plain": [
       "array(['VDY', 'JGB', 'NVY', 'RJI', 'TEI', 'OMN', 'REW', 'DIU', 'AMD',\n",
       "       'AKD', 'IXU', 'BOM', 'PAB', 'BHJ', 'IXG', 'BDQ', 'BHO', 'BHU',\n",
       "       'NMB', 'GUX', 'GOI', 'HBX', 'IDR', 'JLR', 'JGA', 'IXY', 'HJR',\n",
       "       'KLH', 'IXK', 'NDC', 'NAG', 'ISK', 'PNQ', 'PBD', 'RTC', 'RAJ',\n",
       "       'RPR', 'SAG', 'SSE', 'STV', 'UDR', 'IXV', 'IXA', 'IXB', 'RGH',\n",
       "       'SHL', 'BBI', 'CCU', 'COH', 'DBD', 'RDP', 'DEP', 'GOP', 'GAU',\n",
       "       'GAY', 'IMF', 'PYB', 'IXW', 'JRH', 'IXQ', 'IXH', 'IXS', 'IXN',\n",
       "       'AJL', 'IXI', 'LDA', 'DIB', 'DMU', 'MZU', 'IXT', 'PAT', 'IXR',\n",
       "       'RRK', 'RUP', 'TEZ', 'VTZ', 'ZER', 'AGR', 'IXD', 'ATQ', 'AIP',\n",
       "       'BKB', 'VNS', 'KUU', 'BUP', 'BEK', 'IXC', 'KNU', 'DED', 'DEL',\n",
       "       'DHM', 'GWL', 'HSS', 'JDH', 'JAI', 'JSA', 'IXJ', 'KQH', 'KTU',\n",
       "       'LUH', 'IXL', 'LKO', 'IXP', 'PGH', 'SLV', 'SXR', 'TNI', 'LTU',\n",
       "       'TCR', 'AGX', 'BEP', 'BLR', 'VGA', 'CJB', 'COK', 'CCJ', 'CDP',\n",
       "       'CBD', 'HYD', 'BPM', 'CNN', 'IXM', 'IXE', 'MAA', 'MYQ', 'IXZ',\n",
       "       'PNY', 'PUT', 'RMD', 'RJA', 'SXV', 'TJV', 'TIR', 'TRZ', 'TRV',\n",
       "       'WGC'], dtype=object)"
      ]
     },
     "execution_count": 175,
     "metadata": {},
     "output_type": "execute_result"
    }
   ],
   "source": [
    "ap = pd.read_csv('./data/airports.csv').query('iso_country == \"IN\"')\n",
    "ap.iata_code.dropna().unique()\n",
    "#africa_airports = ap.query('continent == \"AF\"')\n",
    "#africa_airports"
   ]
  },
  {
   "cell_type": "code",
   "execution_count": null,
   "metadata": {},
   "outputs": [],
   "source": []
  }
 ],
 "metadata": {
  "kernelspec": {
   "display_name": "Python 3",
   "language": "python",
   "name": "python3"
  },
  "language_info": {
   "codemirror_mode": {
    "name": "ipython",
    "version": 3
   },
   "file_extension": ".py",
   "mimetype": "text/x-python",
   "name": "python",
   "nbconvert_exporter": "python",
   "pygments_lexer": "ipython3",
   "version": "3.7.3"
  }
 },
 "nbformat": 4,
 "nbformat_minor": 4
}
